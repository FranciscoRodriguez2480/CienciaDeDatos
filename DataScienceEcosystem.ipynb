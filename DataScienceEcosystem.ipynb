{
 "cells": [
  {
   "cell_type": "markdown",
   "id": "e73dc016-7382-42f2-942a-3f1d52c6d705",
   "metadata": {},
   "source": [
    "# Data Science Tools and Ecosystem"
   ]
  },
  {
   "cell_type": "markdown",
   "id": "8192d71c-2bb1-45bf-ab1c-11fa709dc0cf",
   "metadata": {},
   "source": [
    "En este cuaderno, se resumen las herramientas y ecosistemas de ciencia de datos."
   ]
  },
  {
   "cell_type": "markdown",
   "id": "0dca3614-64fc-4a17-89d0-8ae7b5d91878",
   "metadata": {},
   "source": [
    "**Objetivos:**\n",
    "- Listar lenguajes populares para Ciencia de Datos.\n",
    "- Identificar bibliotecas comúnmentes utilizadas en Ciencias de Datos.\n",
    "- Introducir ejemplos de evaluación de expresiones aritméticas en Python.\n"
   ]
  },
  {
   "cell_type": "markdown",
   "id": "95893d5d-3e9a-4ea0-a714-5ccf95bab134",
   "metadata": {},
   "source": [
    "## Lenguajes de ciencia de datos"
   ]
  },
  {
   "cell_type": "markdown",
   "id": "65f51f37-5b57-4c31-87e1-a02d1782d224",
   "metadata": {},
   "source": [
    "Algunos de los lenguajes populares que utilizan los científicos de datos son:\n",
    "1. Python\n",
    "2. R\n",
    "3. SQL\n",
    "4. Scala\n",
    "5. Julia"
   ]
  },
  {
   "cell_type": "markdown",
   "id": "7528b4a0-a18d-44e0-a30a-3eee6fc08b2c",
   "metadata": {},
   "source": [
    "## Bibliotecas de ciencia de datos"
   ]
  },
  {
   "cell_type": "markdown",
   "id": "92062345-a96c-434c-8c51-a658fac9cb9c",
   "metadata": {},
   "source": [
    "Algunas de las bibliotecas comúnmente utilizadas por los científicos de datos incluyen:\n",
    "1. Pandas (Python)\n",
    "2. NumPy (Python)\n",
    "3. TensorFlow (Python)\n",
    "4. ggplot2 (R)\n",
    "5. dplyr (R)\n",
    "6. caret (R)\n"
   ]
  },
  {
   "cell_type": "markdown",
   "id": "8601c1e9-c608-410c-beb8-91a62b3626f9",
   "metadata": {},
   "source": [
    "## Tabla de herramientas de ciencia de datos"
   ]
  },
  {
   "cell_type": "markdown",
   "id": "77b1bbd4-cc4f-474c-bf7a-2e58672782ca",
   "metadata": {},
   "source": [
    "|Herramientas de Ciencia de Datos|\n",
    "|------|\n",
    "| Jupyter Notebook |\n",
    "| RStudio |\n",
    "| Apache Spark |"
   ]
  },
  {
   "cell_type": "markdown",
   "id": "609c621e-fdfd-4b82-ac29-f96605012c10",
   "metadata": {},
   "source": [
    "## Ejemplos de expresiones aritméticas\n"
   ]
  },
  {
   "cell_type": "markdown",
   "id": "6cd3a5cb-6adc-437d-82c3-c3939a7257b7",
   "metadata": {},
   "source": [
    "### A continuación, se presentan algunos ejemplos de evaluación de expresiones aritméticas en Python"
   ]
  },
  {
   "cell_type": "markdown",
   "id": "17ddbd31-a624-4f28-ba95-35cfde76f8cf",
   "metadata": {},
   "source": [
    "1. Suma: `5 + 5 = 10`\n",
    "2. Resta: `10 - 5 = 5`\n",
    "3. Multiplicación: `5 * 3 = 15`\n",
    "4. División: `10 / 2 = 5`\n",
    "5. Potenciación: `2 ** 3 = 8`"
   ]
  },
  {
   "cell_type": "markdown",
   "id": "2c100fea-8db4-4585-b5cb-a5210d18c1c9",
   "metadata": {},
   "source": [
    "## Código para multiplicar y sumar números"
   ]
  },
  {
   "cell_type": "code",
   "execution_count": 8,
   "id": "7e0d64dd-0d60-44c3-98d5-4489cd5b49ac",
   "metadata": {},
   "outputs": [
    {
     "data": {
      "text/plain": [
       "17"
      ]
     },
     "execution_count": 8,
     "metadata": {},
     "output_type": "execute_result"
    }
   ],
   "source": [
    "#Esta es una expresión aritmética simple para multiplicar y luego sumar enteros.\n",
    "(3*4)+5"
   ]
  },
  {
   "cell_type": "markdown",
   "id": "f44c4d6a-b001-4758-b524-83bcf739aafb",
   "metadata": {},
   "source": [
    "## Código para convertir minutos a horas"
   ]
  },
  {
   "cell_type": "code",
   "execution_count": 9,
   "id": "739e8bfb-c042-41e3-b7a1-8f06c1e4bdb7",
   "metadata": {},
   "outputs": [
    {
     "data": {
      "text/plain": [
       "3.3333333333333335"
      ]
     },
     "execution_count": 9,
     "metadata": {},
     "output_type": "execute_result"
    }
   ],
   "source": [
    "#Esto convertirá 200 minutos a horas dividiendo por 60\n",
    "200/60"
   ]
  },
  {
   "cell_type": "markdown",
   "id": "c014f3bd-39e8-4304-bfb7-bbf7f15c9ca2",
   "metadata": {},
   "source": [
    "## Autor\n",
    "Francisco Rodriguez G."
   ]
  }
 ],
 "metadata": {
  "kernelspec": {
   "display_name": "Python 3 (ipykernel)",
   "language": "python",
   "name": "python3"
  },
  "language_info": {
   "codemirror_mode": {
    "name": "ipython",
    "version": 3
   },
   "file_extension": ".py",
   "mimetype": "text/x-python",
   "name": "python",
   "nbconvert_exporter": "python",
   "pygments_lexer": "ipython3",
   "version": "3.12.8"
  }
 },
 "nbformat": 4,
 "nbformat_minor": 5
}
